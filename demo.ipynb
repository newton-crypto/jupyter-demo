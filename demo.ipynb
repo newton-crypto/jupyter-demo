{
 "cells": [
  {
   "cell_type": "markdown",
   "metadata": {},
   "source": [
    "# Jupyter + Google Sheets Demo\n",
    "\n",
    "Automate the Boring Stuff: [https://automatetheboringstuff.com/2e/chapter14/](https://automatetheboringstuff.com/2e/chapter14/)\n",
    "\n",
    "EZSheets documentation: [https://ezsheets.readthedocs.io/en/latest/](https://ezsheets.readthedocs.io/en/latest/)\n",
    "\n",
    "## Prerequisites\n",
    "\n",
    "- Visual Studio Code: [https://code.visualstudio.com/](https://code.visualstudio.com/)\n",
    "- Visual Studio Code Python Extensions: [https://marketplace.visualstudio.com/items?itemName=ms-python.python](https://marketplace.visualstudio.com/items?itemName=ms-python.python)\n",
    "\n",
    "## Setup\n",
    "\n",
    "1. Create a directory on your laptop to save your Jupyter notebook and other files\n",
    "2. Follow the instructions in Automate the Boring Stuff (under *Obtaining Credentials and Token Files)* or the EZ Sheets documentation for setting up API access to Google Sheets\n",
    "    - NOTE: *Do not* share the resulting credentials file with anyone or use it in an online service, treat it like a password.\n",
    "    - Use the “Desktop” application type and grant it only the scopes you need for this script.\n",
    "        - eg: If your script is only going to read spreadsheets and do things with that data, use the `readonly` scope.\n",
    "    - Save the credentials file to the directory you created in step 1\n",
    "3. Open Visual Studio Code and open the folder you created\n",
    "\n",
    "![open_folder](img/open_folder.png)\n",
    "\n",
    "## Working with Jupyter Notebook\n",
    "\n",
    "Create a new Notebook by clicking `File` → `New File...` and selecting `Jupyter Notebook`\n",
    "\n",
    "> Tip: You can also press Cmd+Shift+P to open the Command Palette and type in `Jupyter`\n",
    "\n",
    "### Cells\n",
    "\n",
    "Notebooks are divided into “cells”. Cells act like miniature scripts. You can enter multiple commands into them and execute them independently of other cells in your notebook. Cells can be executed by pressing Shift+Enter.\n",
    "\n",
    "Variables you set in one cell will be available in later cells. Cells can be re-arranged and executed out of order. Each cell will print to a little console underneath it, but that output can be collapsed or cleared.\n",
    "\n",
    "Cells can be code, but they can also be Markdown formatted text. This lets you create a living document with runnable code in it. \n",
    "\n",
    "### Installing packages\n",
    "\n",
    "Shell commands can be run by prefixing a line with `%` . This is most often used to install Python packages. \n",
    "\n",
    "Click on the cell below and press Shift+Enter."
   ]
  },
  {
   "cell_type": "code",
   "execution_count": 2,
   "metadata": {},
   "outputs": [
    {
     "name": "stdout",
     "output_type": "stream",
     "text": [
      "Defaulting to user installation because normal site-packages is not writeable\n",
      "Collecting ezsheets\n",
      "  Downloading EZSheets-2021.8.5.tar.gz (19 kB)\n",
      "  Installing build dependencies ... \u001b[?25ldone\n",
      "\u001b[?25h  Getting requirements to build wheel ... \u001b[?25ldone\n",
      "\u001b[?25h    Preparing wheel metadata ... \u001b[?25ldone\n",
      "\u001b[?25hCollecting google-auth-oauthlib\n",
      "  Downloading google_auth_oauthlib-0.5.1-py2.py3-none-any.whl (19 kB)\n",
      "Collecting google-api-python-client\n",
      "  Downloading google_api_python_client-2.43.0-py2.py3-none-any.whl (8.3 MB)\n",
      "\u001b[K     |████████████████████████████████| 8.3 MB 1.9 MB/s eta 0:00:01\n",
      "\u001b[?25hCollecting google-auth-httplib2\n",
      "  Downloading google_auth_httplib2-0.1.0-py2.py3-none-any.whl (9.3 kB)\n",
      "Collecting requests-oauthlib>=0.7.0\n",
      "  Downloading requests_oauthlib-1.3.1-py2.py3-none-any.whl (23 kB)\n",
      "Collecting google-auth>=1.0.0\n",
      "  Downloading google_auth-2.6.3-py2.py3-none-any.whl (156 kB)\n",
      "\u001b[K     |████████████████████████████████| 156 kB 45.2 MB/s eta 0:00:01\n",
      "\u001b[?25hCollecting httplib2<1dev,>=0.15.0\n",
      "  Downloading httplib2-0.20.4-py3-none-any.whl (96 kB)\n",
      "\u001b[K     |████████████████████████████████| 96 kB 19.7 MB/s eta 0:00:01\n",
      "\u001b[?25hCollecting uritemplate<5,>=3.0.1\n",
      "  Downloading uritemplate-4.1.1-py2.py3-none-any.whl (10 kB)\n",
      "Collecting google-api-core!=2.0.*,!=2.1.*,!=2.2.*,!=2.3.0,<3.0.0dev,>=1.31.5\n",
      "  Downloading google_api_core-2.7.1-py3-none-any.whl (114 kB)\n",
      "\u001b[K     |████████████████████████████████| 114 kB 67.5 MB/s eta 0:00:01\n",
      "\u001b[?25hRequirement already satisfied: six in /Library/Developer/CommandLineTools/Library/Frameworks/Python3.framework/Versions/3.8/lib/python3.8/site-packages (from google-auth-httplib2->ezsheets) (1.15.0)\n",
      "Collecting requests>=2.0.0\n",
      "  Downloading requests-2.27.1-py2.py3-none-any.whl (63 kB)\n",
      "\u001b[K     |████████████████████████████████| 63 kB 12.5 MB/s eta 0:00:01\n",
      "\u001b[?25hCollecting oauthlib>=3.0.0\n",
      "  Downloading oauthlib-3.2.0-py3-none-any.whl (151 kB)\n",
      "\u001b[K     |████████████████████████████████| 151 kB 38.7 MB/s eta 0:00:01\n",
      "\u001b[?25hCollecting cachetools<6.0,>=2.0.0\n",
      "  Downloading cachetools-5.0.0-py3-none-any.whl (9.1 kB)\n",
      "Collecting pyasn1-modules>=0.2.1\n",
      "  Downloading pyasn1_modules-0.2.8-py2.py3-none-any.whl (155 kB)\n",
      "\u001b[K     |████████████████████████████████| 155 kB 72.2 MB/s eta 0:00:01\n",
      "\u001b[?25hCollecting rsa<5,>=3.1.4; python_version >= \"3.6\"\n",
      "  Downloading rsa-4.8-py3-none-any.whl (39 kB)\n",
      "Requirement already satisfied: pyparsing!=3.0.0,!=3.0.1,!=3.0.2,!=3.0.3,<4,>=2.4.2; python_version > \"3.0\" in /Users/sam/Library/Python/3.8/lib/python/site-packages (from httplib2<1dev,>=0.15.0->google-api-python-client->ezsheets) (3.0.7)\n",
      "Collecting googleapis-common-protos<2.0dev,>=1.52.0\n",
      "  Downloading googleapis_common_protos-1.56.0-py2.py3-none-any.whl (241 kB)\n",
      "\u001b[K     |████████████████████████████████| 241 kB 72.4 MB/s eta 0:00:01\n",
      "\u001b[?25hCollecting protobuf>=3.12.0\n",
      "  Downloading protobuf-3.20.0-py2.py3-none-any.whl (162 kB)\n",
      "\u001b[K     |████████████████████████████████| 162 kB 38.2 MB/s eta 0:00:01\n",
      "\u001b[?25hCollecting certifi>=2017.4.17\n",
      "  Downloading certifi-2021.10.8-py2.py3-none-any.whl (149 kB)\n",
      "\u001b[K     |████████████████████████████████| 149 kB 49.4 MB/s eta 0:00:01\n",
      "\u001b[?25hCollecting charset-normalizer~=2.0.0; python_version >= \"3\"\n",
      "  Downloading charset_normalizer-2.0.12-py3-none-any.whl (39 kB)\n",
      "Collecting urllib3<1.27,>=1.21.1\n",
      "  Downloading urllib3-1.26.9-py2.py3-none-any.whl (138 kB)\n",
      "\u001b[K     |████████████████████████████████| 138 kB 62.8 MB/s eta 0:00:01\n",
      "\u001b[?25hCollecting idna<4,>=2.5; python_version >= \"3\"\n",
      "  Downloading idna-3.3-py3-none-any.whl (61 kB)\n",
      "\u001b[K     |████████████████████████████████| 61 kB 34.8 MB/s eta 0:00:01\n",
      "\u001b[?25hCollecting pyasn1<0.5.0,>=0.4.6\n",
      "  Downloading pyasn1-0.4.8-py2.py3-none-any.whl (77 kB)\n",
      "\u001b[K     |████████████████████████████████| 77 kB 13.7 MB/s eta 0:00:01\n",
      "\u001b[?25hBuilding wheels for collected packages: ezsheets\n",
      "  Building wheel for ezsheets (PEP 517) ... \u001b[?25ldone\n",
      "\u001b[?25h  Created wheel for ezsheets: filename=EZSheets-2021.8.5-py3-none-any.whl size=19391 sha256=8561e05623f1a188edfbe6cbc8a6cc5ba22ab3afea5e705612005d6dabac6e48\n",
      "  Stored in directory: /Users/sam/Library/Caches/pip/wheels/a5/d0/09/354ba265b80a8231847ec269b789e01171d0b799862c7f7e3a\n",
      "Successfully built ezsheets\n",
      "Installing collected packages: certifi, charset-normalizer, urllib3, idna, requests, oauthlib, requests-oauthlib, cachetools, pyasn1, pyasn1-modules, rsa, google-auth, google-auth-oauthlib, httplib2, google-auth-httplib2, uritemplate, protobuf, googleapis-common-protos, google-api-core, google-api-python-client, ezsheets\n",
      "\u001b[33m  WARNING: The script normalizer is installed in '/Users/sam/Library/Python/3.8/bin' which is not on PATH.\n",
      "  Consider adding this directory to PATH or, if you prefer to suppress this warning, use --no-warn-script-location.\u001b[0m\n",
      "\u001b[33m  WARNING: The scripts pyrsa-decrypt, pyrsa-encrypt, pyrsa-keygen, pyrsa-priv2pub, pyrsa-sign and pyrsa-verify are installed in '/Users/sam/Library/Python/3.8/bin' which is not on PATH.\n",
      "  Consider adding this directory to PATH or, if you prefer to suppress this warning, use --no-warn-script-location.\u001b[0m\n",
      "\u001b[33m  WARNING: The script google-oauthlib-tool is installed in '/Users/sam/Library/Python/3.8/bin' which is not on PATH.\n",
      "  Consider adding this directory to PATH or, if you prefer to suppress this warning, use --no-warn-script-location.\u001b[0m\n",
      "Successfully installed cachetools-5.0.0 certifi-2021.10.8 charset-normalizer-2.0.12 ezsheets-2021.8.5 google-api-core-2.7.1 google-api-python-client-2.43.0 google-auth-2.6.3 google-auth-httplib2-0.1.0 google-auth-oauthlib-0.5.1 googleapis-common-protos-1.56.0 httplib2-0.20.4 idna-3.3 oauthlib-3.2.0 protobuf-3.20.0 pyasn1-0.4.8 pyasn1-modules-0.2.8 requests-2.27.1 requests-oauthlib-1.3.1 rsa-4.8 uritemplate-4.1.1 urllib3-1.26.9\n",
      "\u001b[33mWARNING: You are using pip version 20.2.3; however, version 22.0.4 is available.\n",
      "You should consider upgrading via the '/Library/Developer/CommandLineTools/usr/bin/python3 -m pip install --upgrade pip' command.\u001b[0m\n",
      "Note: you may need to restart the kernel to use updated packages.\n"
     ]
    }
   ],
   "source": [
    "%pip install ezsheets"
   ]
  },
  {
   "cell_type": "markdown",
   "metadata": {},
   "source": [
    "The thin columns next to each cell will collapse them when clicked. Since the pip install is noisy, click the column next to the output cell:\n",
    "\n",
    "![collapse_button](img/collapse_column.png)"
   ]
  },
  {
   "cell_type": "markdown",
   "metadata": {},
   "source": [
    "Next import ezsheets and load your spreadsheet. Spreadsheet ID numbers can be copied from the URL of an open spreadsheet. Replace the one in this example with your own."
   ]
  },
  {
   "cell_type": "code",
   "execution_count": 2,
   "metadata": {},
   "outputs": [],
   "source": [
    "#                                        |------- this is the spreadsheet id -------|\n",
    "# https://docs.google.com/spreadsheets/d/1FiKyiLRaZELmI-iDtxRr6kRT1zXp6DgC8ZEhbitZWoo/edit#gid=552240698\n",
    "\n",
    "import ezsheets\n",
    "spreadsheet = ezsheets.Spreadsheet(\"1FiKyiLRaZELmI-iDtxRr6kRT1zXp6DgC8ZEhbitZWoo\")"
   ]
  },
  {
   "cell_type": "markdown",
   "metadata": {},
   "source": [
    "VSCode includes a feature called Intellisense which will help autocomplete code. In the next cell type spreadsheet. and you should see something like this pop up:\n",
    "\n",
    "![intellisense](img/intellisense.png)\n",
    "\n",
    "Press up/down or scroll to find title and hit Enter. Then press Shift+Enter. The title of your spreadsheet will be printed in the output section."
   ]
  },
  {
   "cell_type": "code",
   "execution_count": 3,
   "metadata": {},
   "outputs": [
    {
     "data": {
      "text/plain": [
       "'GitHub Repositories'"
      ]
     },
     "execution_count": 3,
     "metadata": {},
     "output_type": "execute_result"
    }
   ],
   "source": [
    "spreadsheet.title"
   ]
  },
  {
   "cell_type": "markdown",
   "metadata": {},
   "source": [
    "Now run this:"
   ]
  },
  {
   "cell_type": "code",
   "execution_count": 6,
   "metadata": {},
   "outputs": [
    {
     "name": "stdout",
     "output_type": "stream",
     "text": [
      "(<Sheet sheetId=1746837130, title='topics', rowCount=1000, columnCount=26>, <Sheet sheetId=552240698, title='repositories', rowCount=19549, columnCount=24>)\n"
     ]
    }
   ],
   "source": [
    "print(spreadsheet.sheets)\n",
    "sheet: ezsheets.Sheet = spreadsheet.sheets[1]"
   ]
  },
  {
   "cell_type": "markdown",
   "metadata": {},
   "source": [
    "You will see a list of all the sheets in your spreadsheet and now you have a variable which contains the first sheet in your spreadsheet file. \n",
    "\n",
    "The spreadsheet I’m using has two sheets in it so my output looks like this:\n",
    "\n",
    "```python\n",
    "(<Sheet sheetId=1746837130, title='topics', rowCount=1000, columnCount=26>, \n",
    "<Sheet sheetId=552240698, title='repositories', rowCount=19549, columnCount=24>)\n",
    "```"
   ]
  },
  {
   "cell_type": "markdown",
   "metadata": {},
   "source": [
    "Jupyter will format Python errors to help make the relevant parts a little more obvious. \n",
    "\n",
    "Run this to see what I mean:"
   ]
  },
  {
   "cell_type": "code",
   "execution_count": 4,
   "metadata": {},
   "outputs": [
    {
     "ename": "NameError",
     "evalue": "name 'sheet' is not defined",
     "output_type": "error",
     "traceback": [
      "\u001b[0;31m---------------------------------------------------------------------------\u001b[0m",
      "\u001b[0;31mNameError\u001b[0m                                 Traceback (most recent call last)",
      "\u001b[1;32m/Users/sam/Source/jupyter-demo/demo.ipynb Cell 12'\u001b[0m in \u001b[0;36m<cell line: 1>\u001b[0;34m()\u001b[0m\n\u001b[0;32m----> <a href='vscode-notebook-cell:/Users/sam/Source/jupyter-demo/demo.ipynb#ch0000003?line=0'>1</a>\u001b[0m sheet\u001b[39m.\u001b[39mgetRow(\u001b[39m0\u001b[39m)\n",
      "\u001b[0;31mNameError\u001b[0m: name 'sheet' is not defined"
     ]
    }
   ],
   "source": [
    "sheet.getRow(0)"
   ]
  },
  {
   "cell_type": "markdown",
   "metadata": {},
   "source": [
    "Run this to print the first three rows:"
   ]
  },
  {
   "cell_type": "code",
   "execution_count": 7,
   "metadata": {},
   "outputs": [
    {
     "name": "stdout",
     "output_type": "stream",
     "text": [
      "['topic', 'name', 'owner', 'owner_type', 'full_name', 'description', 'og_image', 'license', 'is_archived', 'is_forked', 'size', 'language', 'tags', 'open_issues', 'forks', 'stars', 'watchers', 'has_wiki', 'has_pages', 'has_sponsorship', 'created_at', 'updated_at', '', '']\n",
      "['3d', 'three.js', 'mrdoob', 'User', 'mrdoob/three.js', 'JavaScript 3D Library.', 'https://repository-images.githubusercontent.com/576201/6c52fa00-6238-11eb-8763-f36f6e226bba', 'MIT License', 'FALSE', 'FALSE', '1148368', 'JavaScript', \"['javascript', 'svg', 'webgl', 'html5', 'canvas', 'augmented-reality', 'webaudio', 'virtual-reality', 'webgl2', '3d', 'webgpu', 'gitter-badge', 'badge-url', 'devdependencies-badge', 'webxr']\", '472', '31277', '80797', '80797', 'TRUE', 'TRUE', 'TRUE', '2010-03-23T18:58:01Z', '2022-04-08T04:18:24Z', '', '']\n",
      "['3d', 'libgdx', 'libgdx', 'Organization', 'libgdx/libgdx', '', '', 'Other', 'FALSE', 'FALSE', '1100870', 'Java', '[]', '231', '6279', '19822', '19822', 'TRUE', 'FALSE', 'FALSE', '2012-08-10T19:34:38Z', '2022-04-08T01:14:17Z', '', '']\n"
     ]
    }
   ],
   "source": [
    "print(sheet.getRow(1))\n",
    "print(sheet.getRow(2))\n",
    "print(sheet.getRow(3))"
   ]
  },
  {
   "cell_type": "markdown",
   "metadata": {},
   "source": [
    "Now what if I printed those rows and discovered that I didn’t actually want that sheet, I wanted the second sheet? Jupyter lets us go back re-run cells after changing values. Go back to the cell where `sheet` was set and change `0` to `1`. But don’t run it yet!\n",
    "\n",
    "We will need to run all subsequent cells, but don’t want to rerun the error cell, so let’s move the cell we edited first. \n",
    "\n",
    "In the space between the cell and its collapse column, you can click and drag to move the cell. \n",
    "\n",
    "![drag](img/drag.png)\n",
    "\n",
    "Move it down so it's between the error cell and the cell which prints the first three rows. Then press Shift+Enter to run them. \n",
    "\n",
    "You can also click this little button to run everything from that cell down:\n",
    "\n",
    "![exec_below](img/exec_below.png)"
   ]
  },
  {
   "cell_type": "markdown",
   "metadata": {},
   "source": [
    "Now that those have run and I can see that getRow() is printing the data I want to use, I can start to work with it. \n",
    "\n",
    "First, I’m going to store the header row and all of the data rows in separate variables."
   ]
  },
  {
   "cell_type": "code",
   "execution_count": 8,
   "metadata": {},
   "outputs": [
    {
     "data": {
      "text/plain": [
       "19548"
      ]
     },
     "execution_count": 8,
     "metadata": {},
     "output_type": "execute_result"
    }
   ],
   "source": [
    "# store all rows except the header row in a variable\n",
    "all_rows = sheet.getRows(2)\n",
    "# store the header row separately\n",
    "header = sheet.getRow(1)\n",
    "\n",
    "# prints the total number of rows\n",
    "len(all_rows)"
   ]
  },
  {
   "cell_type": "code",
   "execution_count": 9,
   "metadata": {},
   "outputs": [
    {
     "name": "stdout",
     "output_type": "stream",
     "text": [
      "{'', 'Eclipse Public License 1.0', 'MIT No Attribution', 'University of Illinois/NCSA Open Source License', 'GNU Lesser General Public License v3.0', 'Creative Commons Attribution 4.0 International', 'Do What The F*ck You Want To Public License', 'LaTeX Project Public License v1.3c', 'GNU Lesser General Public License v2.1', 'Creative Commons Attribution Share Alike 4.0 International', 'BSD Zero Clause License', 'Universal Permissive License v1.0', 'The Unlicense', 'Other', 'Creative Commons Zero v1.0 Universal', 'PostgreSQL License', 'Artistic License 2.0', 'Open Software License 3.0', 'Apache License 2.0', 'SIL Open Font License 1.1', 'MIT License', 'Microsoft Public License', 'GNU General Public License v2.0', 'BSD 2-Clause \"Simplified\" License', 'Mozilla Public License 2.0', 'BSD 3-Clause \"New\" or \"Revised\" License', 'BSD 4-Clause \"Original\" or \"Old\" License', 'Boost Software License 1.0', 'Vim License', 'ISC License', 'zlib License', 'ODC Open Database License v1.0', 'GNU Affero General Public License v3.0', 'BSD 3-Clause Clear License', 'Eclipse Public License 2.0', 'GNU General Public License v3.0'}\n"
     ]
    }
   ],
   "source": [
    "# get all licenses and remove duplicates\n",
    "licenses = set([row[header.index(\"license\")] for row in all_rows])\n",
    "print(licenses)"
   ]
  },
  {
   "cell_type": "markdown",
   "metadata": {},
   "source": [
    "To make life easier we can define helper functions along the way:"
   ]
  },
  {
   "cell_type": "code",
   "execution_count": 29,
   "metadata": {},
   "outputs": [
    {
     "data": {
      "text/plain": [
       "'JavaScript'"
      ]
     },
     "execution_count": 29,
     "metadata": {},
     "output_type": "execute_result"
    }
   ],
   "source": [
    "def get_cell(row: list, name: str) -> str:\n",
    "    return row[header.index(name)]\n",
    "\n",
    "get_cell(all_rows[3], \"language\")"
   ]
  },
  {
   "cell_type": "markdown",
   "metadata": {},
   "source": [
    "Then we can do some fancier stuff:"
   ]
  },
  {
   "cell_type": "code",
   "execution_count": 34,
   "metadata": {},
   "outputs": [
    {
     "name": "stdout",
     "output_type": "stream",
     "text": [
      "{'Weedshaker', 'hql287', 'Kenshin', 'AztecProtocol', 'documize', 'qeeqbox', 'GitSquared', 'daringer', 'ministero-salute', 'lolamtisch', 'Moeditor', 'turt2live', 'snowdd1', 'randao', 'amfoss', 'FirefoxBar', 'plantinformatics', 'diegomanuel', 'shekit', 'forrest-orr', 'manu354', 'dessant', 'oznu', 'openstyles', 'rstormsf', 'syhyz1990', 'liberodark', 'coala', 'd4t4x', 'enzymefinance', 'blockchain', 'xiandanin', 'twreporter', 'andreyalexeich', 'AInoob', 'habitlab', 'ConsenSys', 'ethereum', 'meetDeveloper', 'ankitrohatgi', 'adiwg', 'kanishka-linux', 'ovity', 'rvpanoz', 'Veal98', 'imfing', 'fredericcambon', 'amitbl', 'GoldenChrysus', 'charliegerard', 'responsively-org', 'chrispederick', 'gmarty', 'dawson-org', 'ScratchAddons', 'Anarios', 'alphapapa', 'anticensority', 'JannisX11', 'marcusraitner', 'Adamant-im', 'pgamerx', 'maticnetwork', 'ssbc', 'onblog', 'ToolJet', 'MuhammadFadel', '0mkara', 'buddys', 'JavierCanon', 'wechatsync', 'nishanthvijayan', 'broidHQ', 'xtuJSer', 'mattgodbolt', 'the-robot', 'rohanrhu', 'akashraj9828', 'nosqlclient', 'marklieberman', 'aserg-ufmg', 'manojVivek', 'jely2002', 'bailicangdu', 'rainbow-me', 'aragon', 'yjlou', 'codebuddies', 'meehow', 'd4software', 'floating', 'mediacms-io', 'kee-org', 'xodio', 'ioncache', 'SimonBrazell', 'voilet', 'shalvah', 'MichaelMure', 'uBlock-LLC', 'TheAlgorithms', 'cteamx', 'Toinane', 'wobsoriano', 'lightninglabs', 'KieSun', 'GreyWolfDev', 'second-state', 'TheUltimateC0der', 'sneakypete81', 'chinmaymahajan', 'justjavac', 'breuerfelix', 'disease-sh', 'haroldtreen', 'zmister2016', 'jeffpar', 'aquasecurity', 'wodewone', 'jonathanpeppers', 'JoinColony', 'IceEnd', 'akaJes', 'arduino', 'internet4000', 'samueljun', 'javieraviles', 'agusmakmun', 'kspearrin', 'gorhill', 'mkiol', 'Moustachauve', 'bengarrett', 'gamegos', 'jsososo', 'processing', 'brandon1024', 'AgregoreWeb', 'booktype', 'reactioncommerce', 'pyscada', 'torch2424', 'ciderapp', 'gobitfly', 'etacarinaea', 'AdguardTeam', 'honestbleeps', 'ClearURLs', 'BotsAppOfficial', 'gautamkrishnar', 'seanprashad', 'rtivital', 'discord-tickets', 'TannerReynolds', 'zombieFox', 'shgysk8zer0', 'MarlinFirmware', 'Notavone', 'Enraged-Dun-Cookie-Development-Team', 'rwv', 'leancloud', 'amarcu5', 'dushixiang', 'rahiel', 'passff', 'thedevs-network', 'VirgilClyne', 'opendreamnet', 'ethanaobrien', 'AdiChat', 'OCSInventory-NG', 'justdjango', 'dpnishant', 'juek', 'dominikwilkowski', 'ChristopherKlay', 'tks18', 'dvandal', 'faceair', 'troyeguo', 'evolus', 'Jannchie', 'rocket-pool', 'daquinoaldo', 'download-online-video', 'NodeBB', 'yasp', 'gildas-lormeau', 'nicholas-ochoa', 'KilledByAPixel', 'Tomotoes', '200ok-ch', 'imfunniee', 'maoschanz', 'val92130', 'oldweb-today'}\n"
     ]
    }
   ],
   "source": [
    "# print the name of all github users who have at least one public JavaScript repo licensed with one of the GNU licenses\n",
    "def find_oss_js_devs(rows):\n",
    "    for row in rows:\n",
    "        if get_cell(row, \"language\").lower() == \"javascript\" and get_cell(row, \"license\").lower().startswith(\"gnu\"):\n",
    "            yield get_cell(row, \"owner\")\n",
    "\n",
    "# set(list()) filters out duplicates\n",
    "print(set(list(find_oss_js_devs(all_rows))))"
   ]
  },
  {
   "cell_type": "markdown",
   "metadata": {},
   "source": [
    "### Conclusion\n",
    "\n",
    "Jupyter notebooks can be used to share code, data, and results plus document it all at the same time. It's perfect for ad-hoc solutions and messing around with data and APIs.\n",
    "\n",
    "You can save the notebook file and share it with others, commit it to GitHub alongside data and other files, or keep it for your own reference."
   ]
  }
 ],
 "metadata": {
  "interpreter": {
   "hash": "31f2aee4e71d21fbe5cf8b01ff0e069b9275f58929596ceb00d14d90e3e16cd6"
  },
  "kernelspec": {
   "display_name": "Python 3.8.9 64-bit",
   "language": "python",
   "name": "python3"
  },
  "language_info": {
   "codemirror_mode": {
    "name": "ipython",
    "version": 3
   },
   "file_extension": ".py",
   "mimetype": "text/x-python",
   "name": "python",
   "nbconvert_exporter": "python",
   "pygments_lexer": "ipython3",
   "version": "3.8.9"
  },
  "orig_nbformat": 4
 },
 "nbformat": 4,
 "nbformat_minor": 2
}
